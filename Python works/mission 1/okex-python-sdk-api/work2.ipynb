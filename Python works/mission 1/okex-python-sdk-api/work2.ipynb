{
 "cells": [
  {
   "cell_type": "code",
   "execution_count": 2,
   "metadata": {},
   "outputs": [],
   "source": [
    "import okex.spot_api as spot\n",
    "import okex.futures_api as future\n",
    "import time, threading\n",
    "import pandas as pd\n",
    "import datetime\n",
    "import numpy as np"
   ]
  },
  {
   "cell_type": "code",
   "execution_count": 3,
   "metadata": {},
   "outputs": [],
   "source": [
    "api_key = ''\n",
    "seceret_key = ''\n",
    "passphrase = ''\n",
    "check_point = 9"
   ]
  },
  {
   "cell_type": "code",
   "execution_count": 4,
   "metadata": {},
   "outputs": [],
   "source": [
    "spotAPI = spot.SpotAPI(api_key, seceret_key, passphrase, True)\n",
    "futureAPI = future.FutureAPI(api_key, seceret_key, passphrase, True)\n"
   ]
  },
  {
   "cell_type": "code",
   "execution_count": 23,
   "metadata": {},
   "outputs": [],
   "source": [
    "current_last = spotAPI.get_specific_ticker('BTC-USDT')['last']"
   ]
  },
  {
   "cell_type": "code",
   "execution_count": 18,
   "metadata": {},
   "outputs": [],
   "source": [
    "future_last = futureAPI.get_specific_ticker('BTC-USD-191227')['last']"
   ]
  },
  {
   "cell_type": "code",
   "execution_count": 58,
   "metadata": {},
   "outputs": [
    {
     "name": "stdout",
     "output_type": "stream",
     "text": [
      "{'size': 10}\n"
     ]
    }
   ],
   "source": [
    "current_price_asks = pd.DataFrame.from_dict(spotAPI.get_depth('BTC-USDT',20)['asks'])\n",
    "current_price_asks[0] = pd.to_numeric(current_price_asks[0])\n",
    "current_price_asks[1] = pd.to_numeric(current_price_asks[1])"
   ]
  },
  {
   "cell_type": "code",
   "execution_count": 62,
   "metadata": {},
   "outputs": [],
   "source": [
    "future_bids = pd.DataFrame.from_dict(futureAPI.get_depth('BTC-USD-191227',20)['bids'])\n",
    "future_bids[0] = pd.to_numeric(future_bids[0])\n",
    "future_bids[1] = pd.to_numeric(future_bids[1])"
   ]
  },
  {
   "cell_type": "code",
   "execution_count": 67,
   "metadata": {},
   "outputs": [
    {
     "data": {
      "text/plain": [
       "{'best_ask': '8185.6',\n",
       " 'best_bid': '8185.5',\n",
       " 'instrument_id': 'BTC-USDT',\n",
       " 'product_id': 'BTC-USDT',\n",
       " 'last': '8185.6',\n",
       " 'ask': '8185.6',\n",
       " 'bid': '8185.5',\n",
       " 'open_24h': '8018.2',\n",
       " 'high_24h': '8325.6',\n",
       " 'low_24h': '7977.4',\n",
       " 'base_volume_24h': '22313.2',\n",
       " 'timestamp': '2019-10-08T11:20:07.839Z',\n",
       " 'quote_volume_24h': '182815545.9'}"
      ]
     },
     "execution_count": 67,
     "metadata": {},
     "output_type": "execute_result"
    }
   ],
   "source": [
    "spotAPI.get_specific_ticker('BTC-USDT')"
   ]
  },
  {
   "cell_type": "code",
   "execution_count": null,
   "metadata": {},
   "outputs": [],
   "source": []
  },
  {
   "cell_type": "code",
   "execution_count": null,
   "metadata": {},
   "outputs": [],
   "source": [
    "if future_bids[0][0] > current_price_asks[0][0] + check_point\n",
    "    for i in range(len(current_price_asks)):\n",
    "        if future_bids[0][0] > current_price_asks[0][i] + check_point:\n",
    "            Total_value_buy += current_price_asks[0][i]*current_price_asks[1][i]\n",
    "            size_buy += current_price_asks[1][i]\n",
    "    Total_value_sell = Total_value_buy * (current_last + check_point)/current_last\n",
    "    size_sell = Total_value_sell/future_bids[0][0]\n",
    "    print('Total value BTC buy is {} and total size is {}'.format( Total_value_buy,size_buy))\n",
    "    print('Total value BTC_future sell is {} and total size is {}'.format( Total_value_sell,size_sell))"
   ]
  },
  {
   "cell_type": "code",
   "execution_count": 6,
   "metadata": {},
   "outputs": [
    {
     "name": "stdout",
     "output_type": "stream",
     "text": [
      "{'size': 20, 'depth': 0.1}\n",
      "dif is 71.97999999999956\n",
      "Total value BTC buy is 112202.78487430199 and total size is 13.629772030000003\n",
      "Total value BTC_future sell is 112325.50027883094 and total size is 13.531660303391053\n",
      "{'size': 20, 'depth': 0.1}\n",
      "dif is 71.95000000000073\n",
      "Total value BTC buy is 122549.03286160399 and total size is 14.886112740000002\n",
      "Total value BTC_future sell is 122683.06388551387 and total size is 14.779418220769438\n",
      "{'size': 20, 'depth': 0.1}\n",
      "dif is 71.95000000000073\n",
      "Total value BTC buy is 138889.927313436 and total size is 16.870189410000005\n",
      "Total value BTC_future sell is 139041.83025982327 and total size is 16.750130739388943\n",
      "{'size': 20, 'depth': 0.1}\n",
      "dif is 71.95000000000073\n",
      "Total value BTC buy is 150208.78137061 and total size is 18.244680920000008\n",
      "Total value BTC_future sell is 150373.0636688644 and total size is 18.11518498734654\n",
      "{'size': 20, 'depth': 0.1}\n",
      "dif is 71.95000000000073\n",
      "Total value BTC buy is 119886.77351128099 and total size is 14.56228025\n",
      "Total value BTC_future sell is 120017.8928406772 and total size is 14.45786195772154\n",
      "{'size': 20, 'depth': 0.1}\n",
      "dif is 72.01000000000022\n",
      "Total value BTC buy is 118055.478544674 and total size is 14.33985918\n",
      "Total value BTC_future sell is 118184.59499951688 and total size is 14.235626105846023\n",
      "{'size': 20, 'depth': 0.1}\n",
      "dif is 72.32999999999993\n",
      "Total value BTC buy is 117857.87111947697 and total size is 14.315838430000001\n",
      "Total value BTC_future sell is 117986.762054647 and total size is 14.211796639454084\n"
     ]
    }
   ],
   "source": [
    "\n",
    "    Total_value_buy, size_buy= Buy_current(current_price_asks,future_last,dif,check_point)\n",
    "    #由于我没办法获得跟现货order book一样精度的期货深度数据。所以通过总买入的现货两，大概估算了一下应该卖出的期货合约的价值\n",
    "    #我觉得需要对冲的总价值为 现货总价值+期货溢价部分。下面的公式，我直接把溢价转换成了现货价值的一定百分比。\n",
    "    #如果需要确定卖出多少期货合约，只要用期货卖出总价值除以一张合约的价格\n",
    "    Total_value_sell = Total_value_buy * (current_last + check_point)/current_last\n",
    "    size_sell = Total_value_sell/future_bids[0][0]\n",
    "    print('Total value BTC buy is {} and total size is {}'.format( Total_value_buy,size_buy))\n",
    "    print('Total value BTC_future sell is {} and total size is {}'.format( Total_value_sell,size_sell))"
   ]
  }
 ],
 "metadata": {
  "kernelspec": {
   "display_name": "Python 3",
   "language": "python",
   "name": "python3"
  },
  "language_info": {
   "codemirror_mode": {
    "name": "ipython",
    "version": 3
   },
   "file_extension": ".py",
   "mimetype": "text/x-python",
   "name": "python",
   "nbconvert_exporter": "python",
   "pygments_lexer": "ipython3",
   "version": "3.7.3"
  }
 },
 "nbformat": 4,
 "nbformat_minor": 2
}
