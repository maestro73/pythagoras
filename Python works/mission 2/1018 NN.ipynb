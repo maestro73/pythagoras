{
 "cells": [
  {
   "cell_type": "code",
   "execution_count": 71,
   "metadata": {},
   "outputs": [],
   "source": [
    "import numpy as np\n",
    "import torch\n",
    "import pandas as pd\n",
    "import time\n",
    "import torch.nn as nn\n",
    "import torch.nn.functional as F\n",
    "import matplotlib\n",
    "matplotlib.use('TkAgg')\n",
    "import matplotlib.pyplot as plt\n",
    "from torch.utils.data import TensorDataset, DataLoader\n",
    "from sklearn import preprocessing\n",
    "from sklearn.preprocessing import StandardScaler\n",
    "%matplotlib inline"
   ]
  },
  {
   "cell_type": "code",
   "execution_count": 3,
   "metadata": {},
   "outputs": [],
   "source": [
    "current_date = '100912-101000'"
   ]
  },
  {
   "cell_type": "code",
   "execution_count": 4,
   "metadata": {},
   "outputs": [],
   "source": [
    "EXCHANGE = {\n",
    "        'bitfinex':{\n",
    "            'pair': 'BTCUSD',\n",
    "\t\t\t'period': \"\"\n",
    "\t\t\t},\n",
    "\t\t'binance':{\n",
    "\t\t\t'pair': 'BTCUSDT',\n",
    "\t\t\t'period': \"\"\n",
    "\t\t\t},\n",
    "\t\t'okex_spot_v3':{\n",
    "\t\t\t'pair': 'BTCUSDT',\n",
    "\t\t\t'period': \"\"\n",
    "\t\t\t},\n",
    "\t\t'huobipro':{\n",
    "\t\t\t'pair': 'BTCUSDT',\n",
    "\t\t\t'period': \"\"\n",
    "\t\t\t},\n",
    "\t\t'okex_future_v3':{\n",
    "\t\t\t'pair': 'BTCUSD',\n",
    "\t\t\t'period': \"Q\"\n",
    "\t\t\t},\n",
    "\t\t'huobidm':{\n",
    "\t\t\t'pair': 'BTCUSD',\n",
    "\t\t\t'period': \"Q\"\n",
    "\t\t\t},\n",
    "\t\t'bitmex':{\n",
    "\t\t\t'pair': 'BTCUSD',\n",
    "\t\t\t'period': \"P\"\n",
    "\t\t\t}\n",
    "\t\t}"
   ]
  },
  {
   "cell_type": "code",
   "execution_count": 5,
   "metadata": {},
   "outputs": [],
   "source": [
    "excel_file_input = pd.ExcelFile('/Users/dear/Desktop/Pythagoras/1014/imbalance&return.xlsx')"
   ]
  },
  {
   "cell_type": "code",
   "execution_count": 47,
   "metadata": {},
   "outputs": [],
   "source": [
    "input_list = []"
   ]
  },
  {
   "cell_type": "code",
   "execution_count": 50,
   "metadata": {},
   "outputs": [],
   "source": [
    "for ex in EXCHANGE:\n",
    "\tinput_ex = pd.read_excel(excel_file_input, ex).dropna(how='any')\n",
    "\tinput_list.append([i[0] for i in StandardScaler().fit_transform(input_ex.loc[:, ['average imbalance']].values)])\n",
    "\tinput_list.append([i[0] for i in StandardScaler().fit_transform(input_ex.loc[:, ['order imbalance ratio']].values)])\n",
    "\tinput_list.append([i[0] for i in StandardScaler().fit_transform(input_ex.loc[:, ['net trade size']].values)])\n",
    "\tinput_list.append([i[0] for i in StandardScaler().fit_transform(input_ex.loc[:, ['depth imbalance']].values)])"
   ]
  },
  {
   "cell_type": "code",
   "execution_count": 52,
   "metadata": {},
   "outputs": [],
   "source": [
    "huobidm_input = pd.read_excel(excel_file_input, 'huobidm').dropna(how='any')\n",
    "inputs = np.array([list(a) for a in tuple(zip(*input_list))][:int(len(input_list[0])*0.5)], dtype='float32')\n",
    "targets = np.array(list(huobidm_input['return10'])[:int(len(input_list[0])*0.5)], dtype='float32')\n",
    "inputs = torch.from_numpy(inputs)\n",
    "targets = torch.unsqueeze(torch.from_numpy(targets), dim =1)"
   ]
  },
  {
   "cell_type": "code",
   "execution_count": 53,
   "metadata": {},
   "outputs": [],
   "source": [
    "batch_size = 5000\n",
    "input_size = 28\n",
    "hidden_size = 10\n",
    "output_size = 1"
   ]
  },
  {
   "cell_type": "code",
   "execution_count": 54,
   "metadata": {},
   "outputs": [],
   "source": [
    "train_ds = TensorDataset(inputs, targets)\n",
    "train_dl = DataLoader(train_ds, batch_size, shuffle=True)"
   ]
  },
  {
   "cell_type": "code",
   "execution_count": 55,
   "metadata": {},
   "outputs": [],
   "source": [
    "model = torch.nn.Sequential(\n",
    "\ttorch.nn.Linear(input_size,hidden_size),\n",
    "\ttorch.nn.Sigmoid(),\n",
    "\ttorch.nn.Linear(hidden_size,output_size)\n",
    "\t)"
   ]
  },
  {
   "cell_type": "code",
   "execution_count": 60,
   "metadata": {},
   "outputs": [],
   "source": [
    "# 定义优化器\n",
    "opt = torch.optim.SGD(model.parameters(), lr = 0.1)"
   ]
  },
  {
   "cell_type": "code",
   "execution_count": 61,
   "metadata": {},
   "outputs": [],
   "source": [
    "# 定义损失函数\n",
    "loss_fn = F.mse_loss\n",
    "loss = loss_fn(model(inputs), targets)"
   ]
  },
  {
   "cell_type": "code",
   "execution_count": 62,
   "metadata": {},
   "outputs": [],
   "source": [
    "def fit(num_epochs, model, loss_fn, opt):\n",
    "    for epoch in range(num_epochs):\n",
    "        for xb,yb in train_dl:\n",
    "        \t# Generate predictions\n",
    "            pred = model(xb)\n",
    "            loss = loss_fn(pred, yb)\n",
    "            # Perform gradient descent\n",
    "            loss.backward()\n",
    "            opt.step()\n",
    "            opt.zero_grad()\n",
    "        if epoch % 10 == 0:\n",
    "        \tprint('Training loss: ', loss)"
   ]
  },
  {
   "cell_type": "code",
   "execution_count": 63,
   "metadata": {},
   "outputs": [
    {
     "name": "stdout",
     "output_type": "stream",
     "text": [
      "Training loss:  tensor(0.0020, grad_fn=<MseLossBackward>)\n",
      "Training loss:  tensor(0.0013, grad_fn=<MseLossBackward>)\n",
      "Training loss:  tensor(0.0010, grad_fn=<MseLossBackward>)\n",
      "Training loss:  tensor(0.0008, grad_fn=<MseLossBackward>)\n",
      "Training loss:  tensor(0.0006, grad_fn=<MseLossBackward>)\n",
      "Training loss:  tensor(0.0005, grad_fn=<MseLossBackward>)\n",
      "Training loss:  tensor(0.0004, grad_fn=<MseLossBackward>)\n",
      "Training loss:  tensor(0.0003, grad_fn=<MseLossBackward>)\n",
      "Training loss:  tensor(0.0003, grad_fn=<MseLossBackward>)\n",
      "Training loss:  tensor(0.0002, grad_fn=<MseLossBackward>)\n",
      "Training loss:  tensor(0.0002, grad_fn=<MseLossBackward>)\n",
      "Training loss:  tensor(0.0002, grad_fn=<MseLossBackward>)\n",
      "Training loss:  tensor(0.0002, grad_fn=<MseLossBackward>)\n",
      "Training loss:  tensor(0.0001, grad_fn=<MseLossBackward>)\n",
      "Training loss:  tensor(0.0001, grad_fn=<MseLossBackward>)\n",
      "Training loss:  tensor(0.0001, grad_fn=<MseLossBackward>)\n",
      "Training loss:  tensor(9.1306e-05, grad_fn=<MseLossBackward>)\n",
      "Training loss:  tensor(9.3817e-05, grad_fn=<MseLossBackward>)\n",
      "Training loss:  tensor(8.7729e-05, grad_fn=<MseLossBackward>)\n",
      "Training loss:  tensor(8.5690e-05, grad_fn=<MseLossBackward>)\n",
      "Training loss:  tensor(7.6291e-05, grad_fn=<MseLossBackward>)\n",
      "Training loss:  tensor(7.2277e-05, grad_fn=<MseLossBackward>)\n",
      "Training loss:  tensor(6.1800e-05, grad_fn=<MseLossBackward>)\n",
      "Training loss:  tensor(5.6648e-05, grad_fn=<MseLossBackward>)\n",
      "Training loss:  tensor(6.2264e-05, grad_fn=<MseLossBackward>)\n",
      "Training loss:  tensor(5.5844e-05, grad_fn=<MseLossBackward>)\n",
      "Training loss:  tensor(4.6041e-05, grad_fn=<MseLossBackward>)\n",
      "Training loss:  tensor(5.3627e-05, grad_fn=<MseLossBackward>)\n",
      "Training loss:  tensor(4.4682e-05, grad_fn=<MseLossBackward>)\n",
      "Training loss:  tensor(3.8854e-05, grad_fn=<MseLossBackward>)\n",
      "Training loss:  tensor(4.1174e-05, grad_fn=<MseLossBackward>)\n",
      "Training loss:  tensor(3.4707e-05, grad_fn=<MseLossBackward>)\n",
      "Training loss:  tensor(3.9214e-05, grad_fn=<MseLossBackward>)\n",
      "Training loss:  tensor(3.1686e-05, grad_fn=<MseLossBackward>)\n",
      "Training loss:  tensor(3.4197e-05, grad_fn=<MseLossBackward>)\n",
      "Training loss:  tensor(2.7076e-05, grad_fn=<MseLossBackward>)\n",
      "Training loss:  tensor(2.9952e-05, grad_fn=<MseLossBackward>)\n",
      "Training loss:  tensor(2.8833e-05, grad_fn=<MseLossBackward>)\n",
      "Training loss:  tensor(2.7487e-05, grad_fn=<MseLossBackward>)\n",
      "Training loss:  tensor(2.1910e-05, grad_fn=<MseLossBackward>)\n",
      "Training loss:  tensor(2.3564e-05, grad_fn=<MseLossBackward>)\n",
      "Training loss:  tensor(2.3134e-05, grad_fn=<MseLossBackward>)\n",
      "Training loss:  tensor(2.2046e-05, grad_fn=<MseLossBackward>)\n",
      "Training loss:  tensor(2.1777e-05, grad_fn=<MseLossBackward>)\n",
      "Training loss:  tensor(1.8467e-05, grad_fn=<MseLossBackward>)\n",
      "Training loss:  tensor(1.8731e-05, grad_fn=<MseLossBackward>)\n",
      "Training loss:  tensor(1.7327e-05, grad_fn=<MseLossBackward>)\n",
      "Training loss:  tensor(1.9396e-05, grad_fn=<MseLossBackward>)\n",
      "Training loss:  tensor(1.7023e-05, grad_fn=<MseLossBackward>)\n",
      "Training loss:  tensor(1.6788e-05, grad_fn=<MseLossBackward>)\n",
      "Training loss:  tensor(1.7148e-05, grad_fn=<MseLossBackward>)\n",
      "Training loss:  tensor(1.6536e-05, grad_fn=<MseLossBackward>)\n",
      "Training loss:  tensor(1.5680e-05, grad_fn=<MseLossBackward>)\n",
      "Training loss:  tensor(1.4764e-05, grad_fn=<MseLossBackward>)\n",
      "Training loss:  tensor(1.5533e-05, grad_fn=<MseLossBackward>)\n",
      "Training loss:  tensor(1.4173e-05, grad_fn=<MseLossBackward>)\n",
      "Training loss:  tensor(1.2313e-05, grad_fn=<MseLossBackward>)\n",
      "Training loss:  tensor(1.1888e-05, grad_fn=<MseLossBackward>)\n",
      "Training loss:  tensor(1.1183e-05, grad_fn=<MseLossBackward>)\n",
      "Training loss:  tensor(1.3051e-05, grad_fn=<MseLossBackward>)\n",
      "Training loss:  tensor(1.1484e-05, grad_fn=<MseLossBackward>)\n",
      "Training loss:  tensor(1.2119e-05, grad_fn=<MseLossBackward>)\n",
      "Training loss:  tensor(1.3294e-05, grad_fn=<MseLossBackward>)\n",
      "Training loss:  tensor(1.2284e-05, grad_fn=<MseLossBackward>)\n",
      "Training loss:  tensor(1.2038e-05, grad_fn=<MseLossBackward>)\n",
      "Training loss:  tensor(1.1068e-05, grad_fn=<MseLossBackward>)\n",
      "Training loss:  tensor(1.2425e-05, grad_fn=<MseLossBackward>)\n",
      "Training loss:  tensor(1.0885e-05, grad_fn=<MseLossBackward>)\n",
      "Training loss:  tensor(1.0922e-05, grad_fn=<MseLossBackward>)\n",
      "Training loss:  tensor(1.0465e-05, grad_fn=<MseLossBackward>)\n",
      "Training loss:  tensor(1.0079e-05, grad_fn=<MseLossBackward>)\n",
      "Training loss:  tensor(9.1819e-06, grad_fn=<MseLossBackward>)\n",
      "Training loss:  tensor(7.6227e-06, grad_fn=<MseLossBackward>)\n",
      "Training loss:  tensor(8.6277e-06, grad_fn=<MseLossBackward>)\n",
      "Training loss:  tensor(6.9961e-06, grad_fn=<MseLossBackward>)\n",
      "Training loss:  tensor(8.3559e-06, grad_fn=<MseLossBackward>)\n",
      "Training loss:  tensor(8.9506e-06, grad_fn=<MseLossBackward>)\n",
      "Training loss:  tensor(8.0222e-06, grad_fn=<MseLossBackward>)\n",
      "Training loss:  tensor(9.2870e-06, grad_fn=<MseLossBackward>)\n",
      "Training loss:  tensor(7.0418e-06, grad_fn=<MseLossBackward>)\n",
      "Training loss:  tensor(7.8412e-06, grad_fn=<MseLossBackward>)\n",
      "Training loss:  tensor(6.4094e-06, grad_fn=<MseLossBackward>)\n",
      "Training loss:  tensor(7.2198e-06, grad_fn=<MseLossBackward>)\n",
      "Training loss:  tensor(7.9175e-06, grad_fn=<MseLossBackward>)\n",
      "Training loss:  tensor(6.7258e-06, grad_fn=<MseLossBackward>)\n",
      "Training loss:  tensor(7.0311e-06, grad_fn=<MseLossBackward>)\n",
      "Training loss:  tensor(6.3824e-06, grad_fn=<MseLossBackward>)\n",
      "Training loss:  tensor(6.6056e-06, grad_fn=<MseLossBackward>)\n",
      "Training loss:  tensor(6.1337e-06, grad_fn=<MseLossBackward>)\n",
      "Training loss:  tensor(6.8522e-06, grad_fn=<MseLossBackward>)\n",
      "Training loss:  tensor(6.9113e-06, grad_fn=<MseLossBackward>)\n",
      "Training loss:  tensor(5.8923e-06, grad_fn=<MseLossBackward>)\n",
      "Training loss:  tensor(7.1543e-06, grad_fn=<MseLossBackward>)\n",
      "Training loss:  tensor(6.4438e-06, grad_fn=<MseLossBackward>)\n",
      "Training loss:  tensor(6.2742e-06, grad_fn=<MseLossBackward>)\n",
      "Training loss:  tensor(4.9536e-06, grad_fn=<MseLossBackward>)\n",
      "Training loss:  tensor(4.9946e-06, grad_fn=<MseLossBackward>)\n",
      "Training loss:  tensor(6.9340e-06, grad_fn=<MseLossBackward>)\n",
      "Training loss:  tensor(5.5446e-06, grad_fn=<MseLossBackward>)\n",
      "Training loss:  tensor(5.4269e-06, grad_fn=<MseLossBackward>)\n"
     ]
    }
   ],
   "source": [
    "fit(1000, model, loss_fn, opt)"
   ]
  },
  {
   "cell_type": "code",
   "execution_count": 64,
   "metadata": {},
   "outputs": [],
   "source": [
    "inputs_out = np.array([list(a) for a in tuple(zip(*input_list))][int(len(input_list[0])*0.5):], dtype='float32')\n",
    "inputs_out = torch.from_numpy(inputs_out)\n",
    "preds = list(model(inputs_out).cpu().detach().numpy())\n",
    "targets = np.array(list(huobidm_input['return10'])[int(len(input_list[0])*0.5):], dtype='float32')"
   ]
  },
  {
   "cell_type": "code",
   "execution_count": 77,
   "metadata": {},
   "outputs": [
    {
     "data": {
      "text/plain": [
       "[<matplotlib.lines.Line2D at 0x1a4986e090>]"
      ]
     },
     "execution_count": 77,
     "metadata": {},
     "output_type": "execute_result"
    },
    {
     "data": {
      "image/png": "[encoded data removed]",
      "text/plain": [
       "<Figure size 432x288 with 1 Axes>"
      ]
     },
     "metadata": {
      "needs_background": "light"
     },
     "output_type": "display_data"
    }
   ],
   "source": [
    "plt.plot(preds[100:200])\n",
    "plt.plot(targets[100:200])"
   ]
  },
  {
   "cell_type": "code",
   "execution_count": null,
   "metadata": {},
   "outputs": [],
   "source": []
  }
 ],
 "metadata": {
  "kernelspec": {
   "display_name": "Python 3",
   "language": "python",
   "name": "python3"
  },
  "language_info": {
   "codemirror_mode": {
    "name": "ipython",
    "version": 3
   },
   "file_extension": ".py",
   "mimetype": "text/x-python",
   "name": "python",
   "nbconvert_exporter": "python",
   "pygments_lexer": "ipython3",
   "version": "3.7.4"
  }
 },
 "nbformat": 4,
 "nbformat_minor": 2
}
