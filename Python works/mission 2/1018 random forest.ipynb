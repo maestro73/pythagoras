{
 "cells": [
  {
   "cell_type": "code",
   "execution_count": 257,
   "metadata": {},
   "outputs": [],
   "source": [
    "import pandas as pd\n",
    "import pdb\n",
    "from sklearn.ensemble import RandomForestClassifier\n",
    "from sklearn.metrics import mean_squared_error\n",
    "from sklearn.preprocessing import StandardScaler\n",
    "from sklearn.model_selection import train_test_split\n",
    "import numpy as np\n",
    "import matplotlib.pyplot as plt\n",
    "from sklearn import metrics\n",
    "from sklearn.svm import SVC\n",
    "from sklearn.model_selection import GridSearchCV"
   ]
  },
  {
   "cell_type": "code",
   "execution_count": 258,
   "metadata": {},
   "outputs": [],
   "source": [
    "ss = StandardScaler()"
   ]
  },
  {
   "cell_type": "code",
   "execution_count": 353,
   "metadata": {},
   "outputs": [
    {
     "data": {
      "text/html": [
       "<div>\n",
       "<style scoped>\n",
       "    .dataframe tbody tr th:only-of-type {\n",
       "        vertical-align: middle;\n",
       "    }\n",
       "\n",
       "    .dataframe tbody tr th {\n",
       "        vertical-align: top;\n",
       "    }\n",
       "\n",
       "    .dataframe thead th {\n",
       "        text-align: right;\n",
       "    }\n",
       "</style>\n",
       "<table border=\"1\" class=\"dataframe\">\n",
       "  <thead>\n",
       "    <tr style=\"text-align: right;\">\n",
       "      <th></th>\n",
       "      <th>asks20</th>\n",
       "      <th>bids20</th>\n",
       "      <th>average imbalance</th>\n",
       "      <th>order imbalance ratio</th>\n",
       "      <th>net trade size</th>\n",
       "      <th>depth imbalance</th>\n",
       "      <th>return20</th>\n",
       "      <th>signal20</th>\n",
       "    </tr>\n",
       "  </thead>\n",
       "  <tbody>\n",
       "    <tr>\n",
       "      <td>0</td>\n",
       "      <td>-6.832207</td>\n",
       "      <td>-715.576838</td>\n",
       "      <td>-1243.4</td>\n",
       "      <td>-0.440464</td>\n",
       "      <td>-3360</td>\n",
       "      <td>-3931</td>\n",
       "      <td>-0.000107</td>\n",
       "      <td>1</td>\n",
       "    </tr>\n",
       "    <tr>\n",
       "      <td>1</td>\n",
       "      <td>-50.238615</td>\n",
       "      <td>-179.978286</td>\n",
       "      <td>-1138.4</td>\n",
       "      <td>-0.487812</td>\n",
       "      <td>0</td>\n",
       "      <td>260</td>\n",
       "      <td>-0.000107</td>\n",
       "      <td>1</td>\n",
       "    </tr>\n",
       "    <tr>\n",
       "      <td>2</td>\n",
       "      <td>-41.439842</td>\n",
       "      <td>-171.798518</td>\n",
       "      <td>-543.4</td>\n",
       "      <td>-0.805547</td>\n",
       "      <td>0</td>\n",
       "      <td>228</td>\n",
       "      <td>-0.000107</td>\n",
       "      <td>1</td>\n",
       "    </tr>\n",
       "    <tr>\n",
       "      <td>3</td>\n",
       "      <td>-4.850144</td>\n",
       "      <td>-184.315368</td>\n",
       "      <td>-581.2</td>\n",
       "      <td>-0.894330</td>\n",
       "      <td>-82</td>\n",
       "      <td>-1389</td>\n",
       "      <td>-0.000107</td>\n",
       "      <td>1</td>\n",
       "    </tr>\n",
       "    <tr>\n",
       "      <td>4</td>\n",
       "      <td>-6.506291</td>\n",
       "      <td>-190.560469</td>\n",
       "      <td>-528.4</td>\n",
       "      <td>-0.885065</td>\n",
       "      <td>2</td>\n",
       "      <td>-1543</td>\n",
       "      <td>-0.000107</td>\n",
       "      <td>1</td>\n",
       "    </tr>\n",
       "    <tr>\n",
       "      <td>...</td>\n",
       "      <td>...</td>\n",
       "      <td>...</td>\n",
       "      <td>...</td>\n",
       "      <td>...</td>\n",
       "      <td>...</td>\n",
       "      <td>...</td>\n",
       "      <td>...</td>\n",
       "      <td>...</td>\n",
       "    </tr>\n",
       "    <tr>\n",
       "      <td>42751</td>\n",
       "      <td>-238.451130</td>\n",
       "      <td>-296.642970</td>\n",
       "      <td>-2449.4</td>\n",
       "      <td>-0.448550</td>\n",
       "      <td>-12</td>\n",
       "      <td>-4750</td>\n",
       "      <td>0.000090</td>\n",
       "      <td>3</td>\n",
       "    </tr>\n",
       "    <tr>\n",
       "      <td>42752</td>\n",
       "      <td>-266.346538</td>\n",
       "      <td>-303.148323</td>\n",
       "      <td>-837.4</td>\n",
       "      <td>-0.168209</td>\n",
       "      <td>114</td>\n",
       "      <td>-4355</td>\n",
       "      <td>0.000090</td>\n",
       "      <td>3</td>\n",
       "    </tr>\n",
       "    <tr>\n",
       "      <td>42753</td>\n",
       "      <td>-272.491451</td>\n",
       "      <td>-231.776547</td>\n",
       "      <td>62.4</td>\n",
       "      <td>-0.326715</td>\n",
       "      <td>0</td>\n",
       "      <td>-2586</td>\n",
       "      <td>0.000090</td>\n",
       "      <td>3</td>\n",
       "    </tr>\n",
       "    <tr>\n",
       "      <td>42754</td>\n",
       "      <td>-550.258377</td>\n",
       "      <td>-61.874074</td>\n",
       "      <td>1422.0</td>\n",
       "      <td>0.519184</td>\n",
       "      <td>-16</td>\n",
       "      <td>3220</td>\n",
       "      <td>0.000090</td>\n",
       "      <td>3</td>\n",
       "    </tr>\n",
       "    <tr>\n",
       "      <td>42755</td>\n",
       "      <td>-556.012662</td>\n",
       "      <td>-60.189587</td>\n",
       "      <td>1400.8</td>\n",
       "      <td>0.511829</td>\n",
       "      <td>-400</td>\n",
       "      <td>3342</td>\n",
       "      <td>0.000090</td>\n",
       "      <td>3</td>\n",
       "    </tr>\n",
       "  </tbody>\n",
       "</table>\n",
       "<p>42756 rows × 8 columns</p>\n",
       "</div>"
      ],
      "text/plain": [
       "           asks20      bids20  average imbalance  order imbalance ratio  \\\n",
       "0       -6.832207 -715.576838            -1243.4              -0.440464   \n",
       "1      -50.238615 -179.978286            -1138.4              -0.487812   \n",
       "2      -41.439842 -171.798518             -543.4              -0.805547   \n",
       "3       -4.850144 -184.315368             -581.2              -0.894330   \n",
       "4       -6.506291 -190.560469             -528.4              -0.885065   \n",
       "...           ...         ...                ...                    ...   \n",
       "42751 -238.451130 -296.642970            -2449.4              -0.448550   \n",
       "42752 -266.346538 -303.148323             -837.4              -0.168209   \n",
       "42753 -272.491451 -231.776547               62.4              -0.326715   \n",
       "42754 -550.258377  -61.874074             1422.0               0.519184   \n",
       "42755 -556.012662  -60.189587             1400.8               0.511829   \n",
       "\n",
       "       net trade size  depth imbalance  return20  signal20  \n",
       "0               -3360            -3931 -0.000107         1  \n",
       "1                   0              260 -0.000107         1  \n",
       "2                   0              228 -0.000107         1  \n",
       "3                 -82            -1389 -0.000107         1  \n",
       "4                   2            -1543 -0.000107         1  \n",
       "...               ...              ...       ...       ...  \n",
       "42751             -12            -4750  0.000090         3  \n",
       "42752             114            -4355  0.000090         3  \n",
       "42753               0            -2586  0.000090         3  \n",
       "42754             -16             3220  0.000090         3  \n",
       "42755            -400             3342  0.000090         3  \n",
       "\n",
       "[42756 rows x 8 columns]"
      ]
     },
     "execution_count": 353,
     "metadata": {},
     "output_type": "execute_result"
    }
   ],
   "source": [
    "df = pd.read_excel('/Users/dear/Desktop/imbalance&return20.xlsx',sheet_name= 'huobidm')\n",
    "df"
   ]
  },
  {
   "cell_type": "code",
   "execution_count": 333,
   "metadata": {},
   "outputs": [],
   "source": [
    "# df['regimelong'] = np.where(df['bids10'] > 10, 1,0)"
   ]
  },
  {
   "cell_type": "code",
   "execution_count": 334,
   "metadata": {
    "collapsed": true
   },
   "outputs": [
    {
     "data": {
      "text/html": [
       "<div>\n",
       "<style scoped>\n",
       "    .dataframe tbody tr th:only-of-type {\n",
       "        vertical-align: middle;\n",
       "    }\n",
       "\n",
       "    .dataframe tbody tr th {\n",
       "        vertical-align: top;\n",
       "    }\n",
       "\n",
       "    .dataframe thead th {\n",
       "        text-align: right;\n",
       "    }\n",
       "</style>\n",
       "<table border=\"1\" class=\"dataframe\">\n",
       "  <thead>\n",
       "    <tr style=\"text-align: right;\">\n",
       "      <th></th>\n",
       "      <th>asks10</th>\n",
       "      <th>bids10</th>\n",
       "      <th>average imbalance</th>\n",
       "      <th>order imbalance ratio</th>\n",
       "      <th>net trade size</th>\n",
       "      <th>depth imbalance</th>\n",
       "      <th>return10</th>\n",
       "      <th>past_return10</th>\n",
       "      <th>signal10</th>\n",
       "      <th>regimelong</th>\n",
       "    </tr>\n",
       "  </thead>\n",
       "  <tbody>\n",
       "    <tr>\n",
       "      <td>98</td>\n",
       "      <td>-14.940171</td>\n",
       "      <td>18.894333</td>\n",
       "      <td>305.8</td>\n",
       "      <td>-0.602782</td>\n",
       "      <td>0</td>\n",
       "      <td>3363</td>\n",
       "      <td>0.000747</td>\n",
       "      <td>0.000000</td>\n",
       "      <td>1</td>\n",
       "      <td>1</td>\n",
       "    </tr>\n",
       "    <tr>\n",
       "      <td>99</td>\n",
       "      <td>-46.176566</td>\n",
       "      <td>33.580960</td>\n",
       "      <td>477.8</td>\n",
       "      <td>-0.016630</td>\n",
       "      <td>182</td>\n",
       "      <td>3306</td>\n",
       "      <td>0.001004</td>\n",
       "      <td>0.000000</td>\n",
       "      <td>2</td>\n",
       "      <td>1</td>\n",
       "    </tr>\n",
       "    <tr>\n",
       "      <td>100</td>\n",
       "      <td>-203.375167</td>\n",
       "      <td>51.634165</td>\n",
       "      <td>491.8</td>\n",
       "      <td>0.028818</td>\n",
       "      <td>4</td>\n",
       "      <td>4465</td>\n",
       "      <td>0.001319</td>\n",
       "      <td>0.000060</td>\n",
       "      <td>2</td>\n",
       "      <td>1</td>\n",
       "    </tr>\n",
       "    <tr>\n",
       "      <td>101</td>\n",
       "      <td>-279.993492</td>\n",
       "      <td>31.795184</td>\n",
       "      <td>598.2</td>\n",
       "      <td>0.964762</td>\n",
       "      <td>1288</td>\n",
       "      <td>4836</td>\n",
       "      <td>0.001106</td>\n",
       "      <td>0.000278</td>\n",
       "      <td>2</td>\n",
       "      <td>1</td>\n",
       "    </tr>\n",
       "    <tr>\n",
       "      <td>1511</td>\n",
       "      <td>-59.348183</td>\n",
       "      <td>18.611821</td>\n",
       "      <td>-444.2</td>\n",
       "      <td>-0.360167</td>\n",
       "      <td>938</td>\n",
       "      <td>-3470</td>\n",
       "      <td>0.000673</td>\n",
       "      <td>0.000214</td>\n",
       "      <td>1</td>\n",
       "      <td>1</td>\n",
       "    </tr>\n",
       "    <tr>\n",
       "      <td>...</td>\n",
       "      <td>...</td>\n",
       "      <td>...</td>\n",
       "      <td>...</td>\n",
       "      <td>...</td>\n",
       "      <td>...</td>\n",
       "      <td>...</td>\n",
       "      <td>...</td>\n",
       "      <td>...</td>\n",
       "      <td>...</td>\n",
       "      <td>...</td>\n",
       "    </tr>\n",
       "    <tr>\n",
       "      <td>42092</td>\n",
       "      <td>-889.440087</td>\n",
       "      <td>26.283617</td>\n",
       "      <td>-204.4</td>\n",
       "      <td>0.774069</td>\n",
       "      <td>0</td>\n",
       "      <td>8380</td>\n",
       "      <td>0.000976</td>\n",
       "      <td>0.000000</td>\n",
       "      <td>2</td>\n",
       "      <td>1</td>\n",
       "    </tr>\n",
       "    <tr>\n",
       "      <td>42093</td>\n",
       "      <td>-844.651543</td>\n",
       "      <td>26.281353</td>\n",
       "      <td>-153.0</td>\n",
       "      <td>0.785378</td>\n",
       "      <td>62</td>\n",
       "      <td>8217</td>\n",
       "      <td>0.000976</td>\n",
       "      <td>0.000000</td>\n",
       "      <td>2</td>\n",
       "      <td>1</td>\n",
       "    </tr>\n",
       "    <tr>\n",
       "      <td>42094</td>\n",
       "      <td>-867.970595</td>\n",
       "      <td>24.905614</td>\n",
       "      <td>-31.2</td>\n",
       "      <td>0.785889</td>\n",
       "      <td>0</td>\n",
       "      <td>8143</td>\n",
       "      <td>0.000976</td>\n",
       "      <td>0.000000</td>\n",
       "      <td>2</td>\n",
       "      <td>1</td>\n",
       "    </tr>\n",
       "    <tr>\n",
       "      <td>42095</td>\n",
       "      <td>-862.148300</td>\n",
       "      <td>24.810735</td>\n",
       "      <td>62.4</td>\n",
       "      <td>0.825478</td>\n",
       "      <td>2</td>\n",
       "      <td>8153</td>\n",
       "      <td>0.000976</td>\n",
       "      <td>0.000259</td>\n",
       "      <td>2</td>\n",
       "      <td>1</td>\n",
       "    </tr>\n",
       "    <tr>\n",
       "      <td>42247</td>\n",
       "      <td>-870.035808</td>\n",
       "      <td>12.089719</td>\n",
       "      <td>244.0</td>\n",
       "      <td>0.917016</td>\n",
       "      <td>436</td>\n",
       "      <td>5070</td>\n",
       "      <td>0.000712</td>\n",
       "      <td>0.000000</td>\n",
       "      <td>1</td>\n",
       "      <td>1</td>\n",
       "    </tr>\n",
       "  </tbody>\n",
       "</table>\n",
       "<p>628 rows × 10 columns</p>\n",
       "</div>"
      ],
      "text/plain": [
       "           asks10     bids10  average imbalance  order imbalance ratio  \\\n",
       "98     -14.940171  18.894333              305.8              -0.602782   \n",
       "99     -46.176566  33.580960              477.8              -0.016630   \n",
       "100   -203.375167  51.634165              491.8               0.028818   \n",
       "101   -279.993492  31.795184              598.2               0.964762   \n",
       "1511   -59.348183  18.611821             -444.2              -0.360167   \n",
       "...           ...        ...                ...                    ...   \n",
       "42092 -889.440087  26.283617             -204.4               0.774069   \n",
       "42093 -844.651543  26.281353             -153.0               0.785378   \n",
       "42094 -867.970595  24.905614              -31.2               0.785889   \n",
       "42095 -862.148300  24.810735               62.4               0.825478   \n",
       "42247 -870.035808  12.089719              244.0               0.917016   \n",
       "\n",
       "       net trade size  depth imbalance  return10  past_return10  signal10  \\\n",
       "98                  0             3363  0.000747       0.000000         1   \n",
       "99                182             3306  0.001004       0.000000         2   \n",
       "100                 4             4465  0.001319       0.000060         2   \n",
       "101              1288             4836  0.001106       0.000278         2   \n",
       "1511              938            -3470  0.000673       0.000214         1   \n",
       "...               ...              ...       ...            ...       ...   \n",
       "42092               0             8380  0.000976       0.000000         2   \n",
       "42093              62             8217  0.000976       0.000000         2   \n",
       "42094               0             8143  0.000976       0.000000         2   \n",
       "42095               2             8153  0.000976       0.000259         2   \n",
       "42247             436             5070  0.000712       0.000000         1   \n",
       "\n",
       "       regimelong  \n",
       "98              1  \n",
       "99              1  \n",
       "100             1  \n",
       "101             1  \n",
       "1511            1  \n",
       "...           ...  \n",
       "42092           1  \n",
       "42093           1  \n",
       "42094           1  \n",
       "42095           1  \n",
       "42247           1  \n",
       "\n",
       "[628 rows x 10 columns]"
      ]
     },
     "execution_count": 334,
     "metadata": {},
     "output_type": "execute_result"
    }
   ],
   "source": [
    "# df[df['regimelong'] >0]"
   ]
  },
  {
   "cell_type": "code",
   "execution_count": 260,
   "metadata": {},
   "outputs": [],
   "source": [
    "# df.columns"
   ]
  },
  {
   "cell_type": "code",
   "execution_count": 261,
   "metadata": {},
   "outputs": [],
   "source": [
    "# df.head()"
   ]
  },
  {
   "cell_type": "code",
   "execution_count": 335,
   "metadata": {},
   "outputs": [],
   "source": [
    "trian_size = int(len(df)*0.7)\n",
    "# print(trian_size)"
   ]
  },
  {
   "cell_type": "code",
   "execution_count": 355,
   "metadata": {},
   "outputs": [],
   "source": [
    "name = ['average imbalance', 'order imbalance ratio', 'net trade size', 'depth imbalance']\n",
    "x_train, x_test, y_train, y_test = train_test_split(df[name], df['signal20'], test_size=0.3, random_state=7)"
   ]
  },
  {
   "cell_type": "code",
   "execution_count": 356,
   "metadata": {},
   "outputs": [],
   "source": [
    "# 删去空值并标准化\n",
    "x_train.replace(to_replace=np.NaN, value=-1, inplace=True)\n",
    "x_train = ss.fit_transform(x_train)\n",
    "x_test.replace(to_replace=np.NaN, value=-1, inplace=True)\n",
    "x_test = ss.fit_transform(x_test)\n",
    "# y_train.replace(to_replace=np.NaN, value=-1, inplace=True)\n",
    "# y_test.replace(to_replace=np.NaN, value=-1, inplace=True)"
   ]
  },
  {
   "cell_type": "code",
   "execution_count": 357,
   "metadata": {},
   "outputs": [],
   "source": [
    "from imblearn.over_sampling import SMOTE\n",
    "x_train, y_train = SMOTE().fit_sample(x_train, y_train)"
   ]
  },
  {
   "cell_type": "code",
   "execution_count": 358,
   "metadata": {},
   "outputs": [],
   "source": [
    "clf = RandomForestClassifier()\n",
    "# tuned_parameters = [{'min_samples_leaf':[1,2,3,4], 'n_estimators':[50,100,200]}]\n",
    "# clf = GridSearchCV(estimator=rfc,param_grid=tuned_parameters, cv=5, n_jobs=1)\n",
    "# clf = SVC(kernel = 'linear')"
   ]
  },
  {
   "cell_type": "code",
   "execution_count": 359,
   "metadata": {},
   "outputs": [
    {
     "name": "stderr",
     "output_type": "stream",
     "text": [
      "/opt/anaconda3/lib/python3.7/site-packages/sklearn/ensemble/forest.py:245: FutureWarning: The default value of n_estimators will change from 10 in version 0.20 to 100 in 0.22.\n",
      "  \"10 in version 0.20 to 100 in 0.22.\", FutureWarning)\n"
     ]
    }
   ],
   "source": [
    "model = clf.fit(x_train, y_train)"
   ]
  },
  {
   "cell_type": "code",
   "execution_count": 360,
   "metadata": {},
   "outputs": [
    {
     "name": "stdout",
     "output_type": "stream",
     "text": [
      "0.988182329769274\n"
     ]
    }
   ],
   "source": [
    "y_predict_train = clf.predict(x_train)\n",
    "print(clf.score(x_train, y_train))\n",
    "df_train = pd.DataFrame(y_train)\n",
    "df_train['predict'] = y_predict_train"
   ]
  },
  {
   "cell_type": "code",
   "execution_count": 323,
   "metadata": {},
   "outputs": [
    {
     "name": "stdout",
     "output_type": "stream",
     "text": [
      "0\n"
     ]
    }
   ],
   "source": [
    "temp = df_train[df_train['predict'] == 2]\n",
    "print(len(temp))"
   ]
  },
  {
   "cell_type": "code",
   "execution_count": 189,
   "metadata": {},
   "outputs": [
    {
     "data": {
      "text/plain": [
       "26"
      ]
     },
     "execution_count": 189,
     "metadata": {},
     "output_type": "execute_result"
    }
   ],
   "source": [
    "len(temp[temp['signal10'] < 0])"
   ]
  },
  {
   "cell_type": "code",
   "execution_count": 190,
   "metadata": {},
   "outputs": [
    {
     "data": {
      "text/plain": [
       "1482"
      ]
     },
     "execution_count": 190,
     "metadata": {},
     "output_type": "execute_result"
    }
   ],
   "source": [
    "temp = df_train[df_train['predict'] == -2]\n",
    "len(temp)"
   ]
  },
  {
   "cell_type": "code",
   "execution_count": 191,
   "metadata": {},
   "outputs": [
    {
     "data": {
      "text/plain": [
       "54"
      ]
     },
     "execution_count": 191,
     "metadata": {},
     "output_type": "execute_result"
    }
   ],
   "source": [
    "len(temp[temp['signal10'] > 0])"
   ]
  },
  {
   "cell_type": "code",
   "execution_count": 371,
   "metadata": {},
   "outputs": [
    {
     "data": {
      "text/plain": [
       "40706    3\n",
       "3081     1\n",
       "30095    3\n",
       "32321    0\n",
       "11694    3\n",
       "        ..\n",
       "9644     3\n",
       "37599    2\n",
       "13450    0\n",
       "26866    2\n",
       "8469     3\n",
       "Name: signal20, Length: 12827, dtype: int64"
      ]
     },
     "execution_count": 371,
     "metadata": {},
     "output_type": "execute_result"
    }
   ],
   "source": [
    "y_test"
   ]
  },
  {
   "cell_type": "code",
   "execution_count": 363,
   "metadata": {},
   "outputs": [
    {
     "data": {
      "text/plain": [
       "12827"
      ]
     },
     "execution_count": 363,
     "metadata": {},
     "output_type": "execute_result"
    }
   ],
   "source": [
    "len(clf.predict(x_test))"
   ]
  },
  {
   "cell_type": "code",
   "execution_count": 372,
   "metadata": {},
   "outputs": [],
   "source": [
    "# 测试集表现\n",
    "y_predict_test = clf.predict(x_test)\n",
    "# print(clf.score(x_test, y_test))\n",
    "df_test = df.loc[y_test.index]\n",
    "df_test['predict'] = y_predict_test"
   ]
  },
  {
   "cell_type": "code",
   "execution_count": 385,
   "metadata": {},
   "outputs": [
    {
     "data": {
      "text/plain": [
       "-134205.2257848116"
      ]
     },
     "execution_count": 385,
     "metadata": {},
     "output_type": "execute_result"
    }
   ],
   "source": [
    "df_test[df_test['predict'] == 4]['bids20'].sum() + df_test[df_test['predict'] == 0]['asks20'].sum()"
   ]
  },
  {
   "cell_type": "code",
   "execution_count": 377,
   "metadata": {},
   "outputs": [
    {
     "data": {
      "text/plain": [
       "1204"
      ]
     },
     "execution_count": 377,
     "metadata": {},
     "output_type": "execute_result"
    }
   ],
   "source": [
    "len(df_test[df_test['predict'] == 4])"
   ]
  },
  {
   "cell_type": "code",
   "execution_count": 388,
   "metadata": {},
   "outputs": [
    {
     "data": {
      "text/plain": [
       "-501772.5105911532"
      ]
     },
     "execution_count": 388,
     "metadata": {},
     "output_type": "execute_result"
    }
   ],
   "source": [
    "df_test.sample(n = len(df_test[df_test['predict'] == 4]))['bids20'].sum() + df_test.sample(n = len(df_test[df_test['predict'] == 0]))['asks20'].sum()"
   ]
  },
  {
   "cell_type": "code",
   "execution_count": null,
   "metadata": {},
   "outputs": [],
   "source": []
  },
  {
   "cell_type": "code",
   "execution_count": 380,
   "metadata": {},
   "outputs": [
    {
     "name": "stdout",
     "output_type": "stream",
     "text": [
      "测试集大小： 12827\n",
      "真实值为4的个数： 1282\n",
      "预测值为4的个数： 1204\n",
      "0.5490033222591362\n"
     ]
    }
   ],
   "source": [
    "# 预测值为2时：\n",
    "print (\"测试集大小： %d\"%(len(df_test)))\n",
    "print (\"真实值为4的个数： %d\"%(len(df_test[df_test['signal20'] == 4])))\n",
    "temp = df_test[df_test['predict'] == 4]\n",
    "print (\"预测值为4的个数： %d\"%(len(temp)))\n",
    "print (len(temp[temp['signal20'] >= 3])/len(temp))"
   ]
  },
  {
   "cell_type": "code",
   "execution_count": 381,
   "metadata": {},
   "outputs": [
    {
     "ename": "KeyError",
     "evalue": "'signal10'",
     "output_type": "error",
     "traceback": [
      "\u001b[0;31m---------------------------------------------------------------------------\u001b[0m",
      "\u001b[0;31mKeyError\u001b[0m                                  Traceback (most recent call last)",
      "\u001b[0;32m/opt/anaconda3/lib/python3.7/site-packages/pandas/core/indexes/base.py\u001b[0m in \u001b[0;36mget_loc\u001b[0;34m(self, key, method, tolerance)\u001b[0m\n\u001b[1;32m   2896\u001b[0m             \u001b[0;32mtry\u001b[0m\u001b[0;34m:\u001b[0m\u001b[0;34m\u001b[0m\u001b[0;34m\u001b[0m\u001b[0m\n\u001b[0;32m-> 2897\u001b[0;31m                 \u001b[0;32mreturn\u001b[0m \u001b[0mself\u001b[0m\u001b[0;34m.\u001b[0m\u001b[0m_engine\u001b[0m\u001b[0;34m.\u001b[0m\u001b[0mget_loc\u001b[0m\u001b[0;34m(\u001b[0m\u001b[0mkey\u001b[0m\u001b[0;34m)\u001b[0m\u001b[0;34m\u001b[0m\u001b[0;34m\u001b[0m\u001b[0m\n\u001b[0m\u001b[1;32m   2898\u001b[0m             \u001b[0;32mexcept\u001b[0m \u001b[0mKeyError\u001b[0m\u001b[0;34m:\u001b[0m\u001b[0;34m\u001b[0m\u001b[0;34m\u001b[0m\u001b[0m\n",
      "\u001b[0;32mpandas/_libs/index.pyx\u001b[0m in \u001b[0;36mpandas._libs.index.IndexEngine.get_loc\u001b[0;34m()\u001b[0m\n",
      "\u001b[0;32mpandas/_libs/index.pyx\u001b[0m in \u001b[0;36mpandas._libs.index.IndexEngine.get_loc\u001b[0;34m()\u001b[0m\n",
      "\u001b[0;32mpandas/_libs/hashtable_class_helper.pxi\u001b[0m in \u001b[0;36mpandas._libs.hashtable.PyObjectHashTable.get_item\u001b[0;34m()\u001b[0m\n",
      "\u001b[0;32mpandas/_libs/hashtable_class_helper.pxi\u001b[0m in \u001b[0;36mpandas._libs.hashtable.PyObjectHashTable.get_item\u001b[0;34m()\u001b[0m\n",
      "\u001b[0;31mKeyError\u001b[0m: 'signal10'",
      "\nDuring handling of the above exception, another exception occurred:\n",
      "\u001b[0;31mKeyError\u001b[0m                                  Traceback (most recent call last)",
      "\u001b[0;32m<ipython-input-381-72c1677679cf>\u001b[0m in \u001b[0;36m<module>\u001b[0;34m\u001b[0m\n\u001b[1;32m      1\u001b[0m \u001b[0;31m# 预测值为-2时：\u001b[0m\u001b[0;34m\u001b[0m\u001b[0;34m\u001b[0m\u001b[0;34m\u001b[0m\u001b[0m\n\u001b[0;32m----> 2\u001b[0;31m \u001b[0mprint\u001b[0m \u001b[0;34m(\u001b[0m\u001b[0;34m\"真实值为-2的个数： %d\"\u001b[0m\u001b[0;34m%\u001b[0m\u001b[0;34m(\u001b[0m\u001b[0mlen\u001b[0m\u001b[0;34m(\u001b[0m\u001b[0mdf_test\u001b[0m\u001b[0;34m[\u001b[0m\u001b[0mdf_test\u001b[0m\u001b[0;34m[\u001b[0m\u001b[0;34m'signal10'\u001b[0m\u001b[0;34m]\u001b[0m \u001b[0;34m==\u001b[0m \u001b[0;34m-\u001b[0m\u001b[0;36m2\u001b[0m\u001b[0;34m]\u001b[0m\u001b[0;34m)\u001b[0m\u001b[0;34m)\u001b[0m\u001b[0;34m)\u001b[0m\u001b[0;34m\u001b[0m\u001b[0;34m\u001b[0m\u001b[0m\n\u001b[0m\u001b[1;32m      3\u001b[0m \u001b[0mtemp\u001b[0m \u001b[0;34m=\u001b[0m \u001b[0mdf_test\u001b[0m\u001b[0;34m[\u001b[0m\u001b[0mdf_test\u001b[0m\u001b[0;34m[\u001b[0m\u001b[0;34m'predict'\u001b[0m\u001b[0;34m]\u001b[0m \u001b[0;34m==\u001b[0m \u001b[0;34m-\u001b[0m\u001b[0;36m2\u001b[0m\u001b[0;34m]\u001b[0m\u001b[0;34m\u001b[0m\u001b[0;34m\u001b[0m\u001b[0m\n\u001b[1;32m      4\u001b[0m \u001b[0mprint\u001b[0m \u001b[0;34m(\u001b[0m\u001b[0;34m\"预测值为-2的个数： %d\"\u001b[0m\u001b[0;34m%\u001b[0m\u001b[0;34m(\u001b[0m\u001b[0mlen\u001b[0m\u001b[0;34m(\u001b[0m\u001b[0mtemp\u001b[0m\u001b[0;34m)\u001b[0m\u001b[0;34m)\u001b[0m\u001b[0;34m)\u001b[0m\u001b[0;34m\u001b[0m\u001b[0;34m\u001b[0m\u001b[0m\n\u001b[1;32m      5\u001b[0m \u001b[0mprint\u001b[0m \u001b[0;34m(\u001b[0m\u001b[0mlen\u001b[0m\u001b[0;34m(\u001b[0m\u001b[0mtemp\u001b[0m\u001b[0;34m[\u001b[0m\u001b[0mtemp\u001b[0m\u001b[0;34m[\u001b[0m\u001b[0;34m'signal10'\u001b[0m\u001b[0;34m]\u001b[0m \u001b[0;34m<\u001b[0m \u001b[0;36m0\u001b[0m\u001b[0;34m]\u001b[0m\u001b[0;34m)\u001b[0m\u001b[0;34m/\u001b[0m\u001b[0mlen\u001b[0m\u001b[0;34m(\u001b[0m\u001b[0mtemp\u001b[0m\u001b[0;34m)\u001b[0m\u001b[0;34m)\u001b[0m\u001b[0;34m\u001b[0m\u001b[0;34m\u001b[0m\u001b[0m\n",
      "\u001b[0;32m/opt/anaconda3/lib/python3.7/site-packages/pandas/core/frame.py\u001b[0m in \u001b[0;36m__getitem__\u001b[0;34m(self, key)\u001b[0m\n\u001b[1;32m   2978\u001b[0m             \u001b[0;32mif\u001b[0m \u001b[0mself\u001b[0m\u001b[0;34m.\u001b[0m\u001b[0mcolumns\u001b[0m\u001b[0;34m.\u001b[0m\u001b[0mnlevels\u001b[0m \u001b[0;34m>\u001b[0m \u001b[0;36m1\u001b[0m\u001b[0;34m:\u001b[0m\u001b[0;34m\u001b[0m\u001b[0;34m\u001b[0m\u001b[0m\n\u001b[1;32m   2979\u001b[0m                 \u001b[0;32mreturn\u001b[0m \u001b[0mself\u001b[0m\u001b[0;34m.\u001b[0m\u001b[0m_getitem_multilevel\u001b[0m\u001b[0;34m(\u001b[0m\u001b[0mkey\u001b[0m\u001b[0;34m)\u001b[0m\u001b[0;34m\u001b[0m\u001b[0;34m\u001b[0m\u001b[0m\n\u001b[0;32m-> 2980\u001b[0;31m             \u001b[0mindexer\u001b[0m \u001b[0;34m=\u001b[0m \u001b[0mself\u001b[0m\u001b[0;34m.\u001b[0m\u001b[0mcolumns\u001b[0m\u001b[0;34m.\u001b[0m\u001b[0mget_loc\u001b[0m\u001b[0;34m(\u001b[0m\u001b[0mkey\u001b[0m\u001b[0;34m)\u001b[0m\u001b[0;34m\u001b[0m\u001b[0;34m\u001b[0m\u001b[0m\n\u001b[0m\u001b[1;32m   2981\u001b[0m             \u001b[0;32mif\u001b[0m \u001b[0mis_integer\u001b[0m\u001b[0;34m(\u001b[0m\u001b[0mindexer\u001b[0m\u001b[0;34m)\u001b[0m\u001b[0;34m:\u001b[0m\u001b[0;34m\u001b[0m\u001b[0;34m\u001b[0m\u001b[0m\n\u001b[1;32m   2982\u001b[0m                 \u001b[0mindexer\u001b[0m \u001b[0;34m=\u001b[0m \u001b[0;34m[\u001b[0m\u001b[0mindexer\u001b[0m\u001b[0;34m]\u001b[0m\u001b[0;34m\u001b[0m\u001b[0;34m\u001b[0m\u001b[0m\n",
      "\u001b[0;32m/opt/anaconda3/lib/python3.7/site-packages/pandas/core/indexes/base.py\u001b[0m in \u001b[0;36mget_loc\u001b[0;34m(self, key, method, tolerance)\u001b[0m\n\u001b[1;32m   2897\u001b[0m                 \u001b[0;32mreturn\u001b[0m \u001b[0mself\u001b[0m\u001b[0;34m.\u001b[0m\u001b[0m_engine\u001b[0m\u001b[0;34m.\u001b[0m\u001b[0mget_loc\u001b[0m\u001b[0;34m(\u001b[0m\u001b[0mkey\u001b[0m\u001b[0;34m)\u001b[0m\u001b[0;34m\u001b[0m\u001b[0;34m\u001b[0m\u001b[0m\n\u001b[1;32m   2898\u001b[0m             \u001b[0;32mexcept\u001b[0m \u001b[0mKeyError\u001b[0m\u001b[0;34m:\u001b[0m\u001b[0;34m\u001b[0m\u001b[0;34m\u001b[0m\u001b[0m\n\u001b[0;32m-> 2899\u001b[0;31m                 \u001b[0;32mreturn\u001b[0m \u001b[0mself\u001b[0m\u001b[0;34m.\u001b[0m\u001b[0m_engine\u001b[0m\u001b[0;34m.\u001b[0m\u001b[0mget_loc\u001b[0m\u001b[0;34m(\u001b[0m\u001b[0mself\u001b[0m\u001b[0;34m.\u001b[0m\u001b[0m_maybe_cast_indexer\u001b[0m\u001b[0;34m(\u001b[0m\u001b[0mkey\u001b[0m\u001b[0;34m)\u001b[0m\u001b[0;34m)\u001b[0m\u001b[0;34m\u001b[0m\u001b[0;34m\u001b[0m\u001b[0m\n\u001b[0m\u001b[1;32m   2900\u001b[0m         \u001b[0mindexer\u001b[0m \u001b[0;34m=\u001b[0m \u001b[0mself\u001b[0m\u001b[0;34m.\u001b[0m\u001b[0mget_indexer\u001b[0m\u001b[0;34m(\u001b[0m\u001b[0;34m[\u001b[0m\u001b[0mkey\u001b[0m\u001b[0;34m]\u001b[0m\u001b[0;34m,\u001b[0m \u001b[0mmethod\u001b[0m\u001b[0;34m=\u001b[0m\u001b[0mmethod\u001b[0m\u001b[0;34m,\u001b[0m \u001b[0mtolerance\u001b[0m\u001b[0;34m=\u001b[0m\u001b[0mtolerance\u001b[0m\u001b[0;34m)\u001b[0m\u001b[0;34m\u001b[0m\u001b[0;34m\u001b[0m\u001b[0m\n\u001b[1;32m   2901\u001b[0m         \u001b[0;32mif\u001b[0m \u001b[0mindexer\u001b[0m\u001b[0;34m.\u001b[0m\u001b[0mndim\u001b[0m \u001b[0;34m>\u001b[0m \u001b[0;36m1\u001b[0m \u001b[0;32mor\u001b[0m \u001b[0mindexer\u001b[0m\u001b[0;34m.\u001b[0m\u001b[0msize\u001b[0m \u001b[0;34m>\u001b[0m \u001b[0;36m1\u001b[0m\u001b[0;34m:\u001b[0m\u001b[0;34m\u001b[0m\u001b[0;34m\u001b[0m\u001b[0m\n",
      "\u001b[0;32mpandas/_libs/index.pyx\u001b[0m in \u001b[0;36mpandas._libs.index.IndexEngine.get_loc\u001b[0;34m()\u001b[0m\n",
      "\u001b[0;32mpandas/_libs/index.pyx\u001b[0m in \u001b[0;36mpandas._libs.index.IndexEngine.get_loc\u001b[0;34m()\u001b[0m\n",
      "\u001b[0;32mpandas/_libs/hashtable_class_helper.pxi\u001b[0m in \u001b[0;36mpandas._libs.hashtable.PyObjectHashTable.get_item\u001b[0;34m()\u001b[0m\n",
      "\u001b[0;32mpandas/_libs/hashtable_class_helper.pxi\u001b[0m in \u001b[0;36mpandas._libs.hashtable.PyObjectHashTable.get_item\u001b[0;34m()\u001b[0m\n",
      "\u001b[0;31mKeyError\u001b[0m: 'signal10'"
     ]
    }
   ],
   "source": [
    "# 预测值为-2时：\n",
    "print (\"真实值为-2的个数： %d\"%(len(df_test[df_test['signal10'] == -2])))\n",
    "temp = df_test[df_test['predict'] == -2]\n",
    "print (\"预测值为-2的个数： %d\"%(len(temp)))\n",
    "print (len(temp[temp['signal10'] < 0])/len(temp))"
   ]
  },
  {
   "cell_type": "code",
   "execution_count": null,
   "metadata": {},
   "outputs": [],
   "source": []
  }
 ],
 "metadata": {
  "kernelspec": {
   "display_name": "Python 3",
   "language": "python",
   "name": "python3"
  },
  "language_info": {
   "codemirror_mode": {
    "name": "ipython",
    "version": 3
   },
   "file_extension": ".py",
   "mimetype": "text/x-python",
   "name": "python",
   "nbconvert_exporter": "python",
   "pygments_lexer": "ipython3",
   "version": "3.7.4"
  }
 },
 "nbformat": 4,
 "nbformat_minor": 2
}
